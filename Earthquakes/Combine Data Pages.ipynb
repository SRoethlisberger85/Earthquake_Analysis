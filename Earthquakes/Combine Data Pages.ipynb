{
 "cells": [
  {
   "cell_type": "code",
   "execution_count": null,
   "id": "f63c1ab8",
   "metadata": {},
   "outputs": [],
   "source": [
    "import pandas as pd\n",
    "import numpy as np\n",
    "import matplotlib.pyplot as plt\n",
    "from matplotlib.patches import Arc\n",
    "import scipy.stats as st \n",
    "import seaborn as sns\n",
    "import plotly.graph_objects as go\n",
    "import plotly.express as px\n",
    "from IPython.display import Image\n",
    "%matplotlib inline"
   ]
  },
  {
   "cell_type": "code",
   "execution_count": null,
   "id": "13270068",
   "metadata": {},
   "outputs": [],
   "source": [
    "csv_files = [\n",
    "    \"earthquake_data_page1.csv\",\n",
    "    \"earthquake_data_page2.csv\",\n",
    "    \"earthquake_data_page3.csv\",\n",
    "    \"earthquake_data_page4.csv\",\n",
    "    \"earthquake_data_page5.csv\",\n",
    "    \"earthquake_data_page6.csv\",\n",
    "    \"earthquake_data_page7.csv\",\n",
    "    \"earthquake_data_page8.csv\",\n",
    "    \"earthquake_data_page9.csv\",\n",
    "    \"earthquake_data_page10.csv\",\n",
    "    \"earthquake_data_page11.csv\",\n",
    "    \"earthquake_data_page12.csv\",\n",
    "    \"earthquake_data_page13.csv\"  \n",
    "]"
   ]
  },
  {
   "cell_type": "code",
   "execution_count": null,
   "id": "816103da",
   "metadata": {},
   "outputs": [],
   "source": [
    "combined_NGDC_df = pd.DataFrame()"
   ]
  },
  {
   "cell_type": "code",
   "execution_count": null,
   "id": "87676249",
   "metadata": {},
   "outputs": [],
   "source": [
    "for csv_file in csv_files:\n",
    "    df = pd.read_csv(csv_file)\n",
    "    combined_NGDC_df = pd.concat([combined_NGDC_df, df], ignore_index=True)\n",
    "        "
   ]
  },
  {
   "cell_type": "code",
   "execution_count": null,
   "id": "6f2f1952",
   "metadata": {},
   "outputs": [],
   "source": [
    "print (combined_NGDC_df)"
   ]
  },
  {
   "cell_type": "code",
   "execution_count": null,
   "id": "73405f4c",
   "metadata": {},
   "outputs": [],
   "source": [
    "combined_NGDC_df.fillna(0,inplace=True)\n",
    "cleaned_df = combined_NGDC_df\n",
    "cleaned_df.isnull().sum()"
   ]
  },
  {
   "cell_type": "code",
   "execution_count": null,
   "id": "3abeab9f",
   "metadata": {},
   "outputs": [],
   "source": [
    "cleaned_df.head()"
   ]
  },
  {
   "cell_type": "code",
   "execution_count": null,
   "id": "e60ac820",
   "metadata": {},
   "outputs": [],
   "source": [
    "cleaned_df.to_csv('combined_NGDC_earthquakes.csv', index=False)"
   ]
  }
 ],
 "metadata": {
  "kernelspec": {
   "display_name": "Python 3 (ipykernel)",
   "language": "python",
   "name": "python3"
  },
  "language_info": {
   "codemirror_mode": {
    "name": "ipython",
    "version": 3
   },
   "file_extension": ".py",
   "mimetype": "text/x-python",
   "name": "python",
   "nbconvert_exporter": "python",
   "pygments_lexer": "ipython3",
   "version": "3.11.3"
  }
 },
 "nbformat": 4,
 "nbformat_minor": 5
}
