{
 "cells": [
  {
   "cell_type": "code",
   "execution_count": 3,
   "id": "8f8ad6e5",
   "metadata": {},
   "outputs": [],
   "source": [
    "import pandas as pd\n",
    "import requests"
   ]
  },
  {
   "cell_type": "code",
   "execution_count": 9,
   "id": "b8a8463d",
   "metadata": {},
   "outputs": [],
   "source": [
    "url = 'https://earthquake.usgs.gov/fdsnws/event/1/query'\n",
    "year = 2023"
   ]
  },
  {
   "cell_type": "code",
   "execution_count": 8,
   "id": "8973bbdb",
   "metadata": {},
   "outputs": [],
   "source": [
    "params = {\n",
    "    'format': 'geojson',\n",
    "    'starttime': f'{2023}-01-01',\n",
    "    'endtime': f'{2023}-12-31',\n",
    "    'minmagnitude': '3.6',\n",
    "    'orderby': 'time'\n",
    "    \n",
    "}"
   ]
  },
  {
   "cell_type": "code",
   "execution_count": 9,
   "id": "cdf25594",
   "metadata": {},
   "outputs": [],
   "source": [
    "response = requests.get(url, params=params)\n",
    "data = response.json()"
   ]
  },
  {
   "cell_type": "code",
   "execution_count": 10,
   "id": "38dbd2ea",
   "metadata": {},
   "outputs": [],
   "source": [
    "columns = ['time', 'place', 'mag', 'type', 'geometry']\n",
    "rows = []\n",
    "for feature in data ['features']:\n",
    "    row = [feature['properties'][col] for col in columns[:-1]]\n",
    "    row.append(feature['geometry'])\n",
    "    rows.append(row)"
   ]
  },
  {
   "cell_type": "code",
   "execution_count": 11,
   "id": "34b48777",
   "metadata": {},
   "outputs": [
    {
     "name": "stdout",
     "output_type": "stream",
     "text": [
      "Done collecting data for year: 2023\n"
     ]
    }
   ],
   "source": [
    "df = pd.DataFrame(rows, columns=columns)\n",
    "df.to_csv(f'earthquake_data_2023.csv',\n",
    "         index=False)\n",
    "print(f'Done collecting data for year: {2023}')"
   ]
  },
  {
   "cell_type": "code",
   "execution_count": 18,
   "id": "5d8cc706",
   "metadata": {},
   "outputs": [
    {
     "name": "stdout",
     "output_type": "stream",
     "text": [
      "2000\n",
      "Number of rows: 16742\n",
      "2001\n",
      "Number of rows: 33484\n",
      "2002\n",
      "Number of rows: 50226\n",
      "2003\n",
      "Number of rows: 66968\n",
      "2004\n",
      "Number of rows: 83710\n",
      "2005\n",
      "Number of rows: 100452\n",
      "2006\n",
      "Number of rows: 117194\n",
      "2007\n",
      "Number of rows: 133936\n",
      "2008\n",
      "Number of rows: 150678\n",
      "2009\n",
      "Number of rows: 167420\n",
      "2010\n",
      "Number of rows: 184162\n",
      "2011\n",
      "Number of rows: 200904\n",
      "2012\n",
      "Number of rows: 217646\n",
      "2013\n",
      "Number of rows: 234388\n",
      "2014\n",
      "Number of rows: 251130\n",
      "2015\n",
      "Number of rows: 267872\n",
      "2016\n",
      "Number of rows: 284614\n",
      "2017\n",
      "Number of rows: 301356\n",
      "2018\n",
      "Number of rows: 318098\n",
      "2019\n",
      "Number of rows: 334840\n",
      "2020\n",
      "Number of rows: 351582\n",
      "2021\n",
      "Number of rows: 368324\n",
      "2022\n",
      "Number of rows: 385066\n"
     ]
    }
   ],
   "source": [
    "params = {\n",
    "    'format': 'geojson',\n",
    "    'starttime': f'{year}-01-01',\n",
    "    'endtime': f'{year}-12-31',\n",
    "    'minmagnitude': '3.6',\n",
    "}\n",
    "df = pd.DataFrame(columns=columns)\n",
    "for year in range(2000, 2023):\n",
    "    print(year)\n",
    "    response = requests.get(url, params=params)\n",
    "    data = response.json()\n",
    "\n",
    "    columns = ['time', 'place', 'mag', 'type', 'geometry']\n",
    "    rows = []\n",
    "\n",
    "    for feature in data ['features']:\n",
    "        row = [feature['properties'][col] for col in columns[:-1]]\n",
    "        row.append(feature['geometry'])\n",
    "        rows.append(row)\n",
    "\n",
    "    year_data = pd.DataFrame(rows, columns=columns)\n",
    "    df = pd.concat([df, year_data], join = 'inner', ignore_index = True)\n",
    "    print(f\"Number of rows: {df.shape[0]}\")\n",
    "\n",
    "df.to_csv(f'earthquake_data_all_years.csv', index=False)"
   ]
  },
  {
   "cell_type": "code",
   "execution_count": null,
   "id": "b1182446",
   "metadata": {},
   "outputs": [],
   "source": []
  }
 ],
 "metadata": {
  "kernelspec": {
   "display_name": "Python 3 (ipykernel)",
   "language": "python",
   "name": "python3"
  },
  "language_info": {
   "codemirror_mode": {
    "name": "ipython",
    "version": 3
   },
   "file_extension": ".py",
   "mimetype": "text/x-python",
   "name": "python",
   "nbconvert_exporter": "python",
   "pygments_lexer": "ipython3",
   "version": "3.11.4"
  }
 },
 "nbformat": 4,
 "nbformat_minor": 5
}
