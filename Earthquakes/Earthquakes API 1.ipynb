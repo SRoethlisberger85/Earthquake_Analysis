{
 "cells": [
  {
   "cell_type": "code",
   "execution_count": 2,
   "id": "8f8ad6e5",
   "metadata": {},
   "outputs": [],
   "source": [
    "import pandas as pd\n",
    "import requests"
   ]
  },
  {
   "cell_type": "code",
   "execution_count": 5,
   "id": "b8a8463d",
   "metadata": {},
   "outputs": [],
   "source": [
    "url = 'https://earthquake.usgs.gov/fdsnws/event/1/query'\n",
    "year = 2023"
   ]
  },
  {
   "cell_type": "code",
   "execution_count": 6,
   "id": "8973bbdb",
   "metadata": {},
   "outputs": [],
   "source": [
    "params = {\n",
    "    'format': 'geojson',\n",
    "    'starttime': f'{2023}-01-01',\n",
    "    'endtime': f'{2023}-12-31',\n",
    "    'minmagnitude': '3.6',\n",
    "    'orderby': 'time'\n",
    "    \n",
    "}"
   ]
  },
  {
   "cell_type": "code",
   "execution_count": 7,
   "id": "cdf25594",
   "metadata": {},
   "outputs": [],
   "source": [
    "response = requests.get(url, params=params)\n",
    "data = response.json()"
   ]
  },
  {
   "cell_type": "code",
   "execution_count": 10,
   "id": "38dbd2ea",
   "metadata": {},
   "outputs": [],
   "source": [
    "columns = ['time', 'place', 'mag', 'type', 'geometry']\n",
    "rows = []\n",
    "for feature in data ['features']:\n",
    "    row = [feature['properties'][col] for col in columns[:-1]]\n",
    "    row.append(feature['geometry'])\n",
    "    rows.append(row)"
   ]
  },
  {
   "cell_type": "code",
   "execution_count": 20,
   "id": "34b48777",
   "metadata": {},
   "outputs": [
    {
     "name": "stdout",
     "output_type": "stream",
     "text": [
      "Done collecting data for year: 2023\n"
     ]
    }
   ],
   "source": [
    "df = pd.DataFrame(rows, columns=columns)\n",
    "df.to_csv(f'earthquake_data_2023.csv',\n",
    "         index=False)\n",
    "print(f'Done collecting data for year: {2023}')"
   ]
  },
  {
   "cell_type": "code",
   "execution_count": null,
   "id": "5d8cc706",
   "metadata": {},
   "outputs": [],
   "source": [
    "params = {\n",
    "    'format': 'geojson',\n",
    "    'minmagnitude': '3.6'\n",
    "    \n",
    "}\n",
    "\n",
    "response = requests.get(url, params=params)\n",
    "data = response.json()\n",
    "\n",
    "columns = ['time', 'place', 'mag', 'type', 'geometry']\n",
    "rows = []\n",
    "for feature in data ['features']:\n",
    "    row = [feature['properties'][col] for col in columns[:-1]]\n",
    "    row.append(feature['geometry'])\n",
    "    rows.append(row)"
   ]
  }
 ],
 "metadata": {
  "kernelspec": {
   "display_name": "Python 3 (ipykernel)",
   "language": "python",
   "name": "python3"
  },
  "language_info": {
   "codemirror_mode": {
    "name": "ipython",
    "version": 3
   },
   "file_extension": ".py",
   "mimetype": "text/x-python",
   "name": "python",
   "nbconvert_exporter": "python",
   "pygments_lexer": "ipython3",
   "version": "3.10.9"
  }
 },
 "nbformat": 4,
 "nbformat_minor": 5
}
