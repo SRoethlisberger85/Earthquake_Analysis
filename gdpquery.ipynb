{
 "cells": [
  {
   "cell_type": "code",
   "execution_count": 1,
   "id": "4a6c8c6e",
   "metadata": {},
   "outputs": [],
   "source": [
    "import pandas as pd"
   ]
  },
  {
   "cell_type": "code",
   "execution_count": 2,
   "id": "77177b45",
   "metadata": {},
   "outputs": [],
   "source": [
    "gdp_csv = pd.read_csv('worldgdpdata.csv')\n",
    "gdp_df = pd.DataFrame(gdp_csv)"
   ]
  },
  {
   "cell_type": "code",
   "execution_count": 3,
   "id": "99a70807",
   "metadata": {},
   "outputs": [],
   "source": [
    "#gdp_df.head"
   ]
  },
  {
   "cell_type": "code",
   "execution_count": 4,
   "id": "316da71e",
   "metadata": {},
   "outputs": [],
   "source": [
    "#query function\n",
    "def retrieve_gdp(country, target_year):\n",
    "    country = str(country)\n",
    "    target_year = int(target_year)\n",
    "    matching_data = gdp_csv[(gdp_csv['LOCATION'] == country) & (gdp_csv['TIME'] == target_year)]\n",
    "    \n",
    "    if not matching_data.empty:\n",
    "        gdp_amount = matching_data.iloc[0]['Value']\n",
    "        return gdp_amount\n",
    "    else:\n",
    "        return None"
   ]
  },
  {
   "cell_type": "code",
   "execution_count": 5,
   "id": "f26f2a6a",
   "metadata": {},
   "outputs": [],
   "source": [
    "#% change funtion\n",
    "def percent_change(country, base_year):\n",
    "    initial_gdp = retrieve_gdp(country, base_year)\n",
    "    subsequent_gdp = retrieve_gdp(country, base_year + 1)\n",
    "\n",
    "    if initial_gdp is not None and subsequent_gdp is not None:\n",
    "        growth_percentage = ((subsequent_gdp - initial_gdp) / initial_gdp) * 100.0\n",
    "        return growth_percentage\n",
    "    else:\n",
    "        return None"
   ]
  },
  {
   "cell_type": "code",
   "execution_count": 6,
   "id": "e124ce4c",
   "metadata": {},
   "outputs": [
    {
     "name": "stdout",
     "output_type": "stream",
     "text": [
      "Enter the 3 letter ISO country code: USA\n",
      "Enter the year of the earthquake: 2012\n"
     ]
    }
   ],
   "source": [
    "#user input\n",
    "country_input = input(\"Enter the 3 letter ISO country code: \")\n",
    "year_input = input(\"Enter the year of the earthquake: \")"
   ]
  },
  {
   "cell_type": "code",
   "execution_count": 7,
   "id": "9c6e6324",
   "metadata": {},
   "outputs": [],
   "source": [
    "#convert year to int, exception handling\n",
    "try:\n",
    "    year_input = int(year_input)\n",
    "except ValueError:\n",
    "    print(\"Error in input\")\n",
    "    exit()"
   ]
  },
  {
   "cell_type": "code",
   "execution_count": 8,
   "id": "59c46cb9",
   "metadata": {},
   "outputs": [],
   "source": [
    "gdp_growth = percent_change(country_input, year_input)"
   ]
  },
  {
   "cell_type": "code",
   "execution_count": 11,
   "id": "55f49370",
   "metadata": {
    "scrolled": true
   },
   "outputs": [],
   "source": [
    "#gdp_growth"
   ]
  },
  {
   "cell_type": "code",
   "execution_count": 12,
   "id": "8d303378",
   "metadata": {},
   "outputs": [
    {
     "name": "stdout",
     "output_type": "stream",
     "text": [
      "The GDP change following the earthquake is 3.63%\n"
     ]
    }
   ],
   "source": [
    "#print/exception handling\n",
    "if gdp_growth is not None:\n",
    "    print(f\"The GDP change following the earthquake is {gdp_growth:.2f}%\")\n",
    "else:\n",
    "    print(f\"Unable to calculate GDP change\")"
   ]
  }
 ],
 "metadata": {
  "kernelspec": {
   "display_name": "Python 3 (ipykernel)",
   "language": "python",
   "name": "python3"
  },
  "language_info": {
   "codemirror_mode": {
    "name": "ipython",
    "version": 3
   },
   "file_extension": ".py",
   "mimetype": "text/x-python",
   "name": "python",
   "nbconvert_exporter": "python",
   "pygments_lexer": "ipython3",
   "version": "3.11.3"
  }
 },
 "nbformat": 4,
 "nbformat_minor": 5
}
