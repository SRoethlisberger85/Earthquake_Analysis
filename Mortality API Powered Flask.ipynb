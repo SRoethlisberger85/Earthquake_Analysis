{
 "cells": [
  {
   "cell_type": "code",
   "execution_count": 1,
   "id": "2534590e",
   "metadata": {},
   "outputs": [],
   "source": [
    "import csv\n",
    "from flask import Flask, jsonify, request\n",
    "import requests\n",
    "from bs4 import BeautifulSoup\n",
    "import json\n"
   ]
  },
  {
   "cell_type": "code",
   "execution_count": 2,
   "id": "2edba4bb",
   "metadata": {},
   "outputs": [],
   "source": [
    "app = Flask(__name__)"
   ]
  },
  {
   "cell_type": "code",
   "execution_count": 3,
   "id": "819c9061",
   "metadata": {},
   "outputs": [],
   "source": [
    "def fetch_earthquake_data(page):\n",
    "    base_url = \"https://www.ngdc.noaa.gov/hazel/hazard-service/api/v1/earthquakes\"\n",
    "    \n",
    "    params = {\n",
    "        \"maxYear\": 2023,\n",
    "        \"minYear\": 1960,\n",
    "        \"page\": page\n",
    "    }\n",
    "\n",
    "    response = requests.get(base_url, params=params)\n",
    "    \n",
    "    if response.status_code == 200:\n",
    "         response_data = response.json()\n",
    "         earthquake_data = response_data.get(\"items\", [])\n",
    "         return earthquake_data\n",
    "    else:\n",
    "        print(f\"Failed to fetch data for page {page}. Status code: {response.status_code}\")\n",
    "        return []\n",
    "\n",
    "page_1_data = fetch_earthquake_data(13) ##Change page number "
   ]
  },
  {
   "cell_type": "code",
   "execution_count": null,
   "id": "7c9bfefa",
   "metadata": {},
   "outputs": [
    {
     "name": "stdout",
     "output_type": "stream",
     "text": [
      " * Serving Flask app '__main__'\n",
      " * Debug mode: on\n"
     ]
    },
    {
     "name": "stderr",
     "output_type": "stream",
     "text": [
      "WARNING: This is a development server. Do not use it in a production deployment. Use a production WSGI server instead.\n",
      " * Running on http://127.0.0.1:5000\n",
      "Press CTRL+C to quit\n",
      "127.0.0.1 - - [20/Oct/2023 10:36:20] \"GET /hazel/hazard-service/api/v1/earthquakes HTTP/1.1\" 200 -\n"
     ]
    }
   ],
   "source": [
    "@app.route('/hazel/hazard-service/api/v1/earthquakes', methods=['GET'])\n",
    "def get_earthquake_data():\n",
    "#     return jsonify(page_1_data)\n",
    "\n",
    "# to pull individual pages to csv file (comment out the return jsonify )\n",
    "\n",
    "    page = 13  ##Change page number \n",
    "    all_earthquake_data = fetch_earthquake_data(page)\n",
    "    \n",
    "#     # Save the data to a CSV file\n",
    "    save_to_csv(all_earthquake_data)\n",
    "    \n",
    "    return jsonify({\"message\": \"Data saved to CSV file\"})\n",
    "\n",
    "def save_to_csv(data):\n",
    "    \n",
    "    csv_filename = \"earthquake_data_page13.csv\" #Change page Number \n",
    "    fieldnames = [\n",
    "        \"Id\", \"Year\", \"Month\", \"Day\", \"Hour\", \"Minute\", \"Second\",\"Tsunami\",\n",
    "        \"Country\", \"Location Name\", \"Latitude\", \"Longitude\",\n",
    "        \"Focal Depth (km)\", \"Mag\",\"MMI Int\", \"Deaths\",\n",
    "        \"Injuries\", \"Damage ($Mil)\",\n",
    "        \"Houses Destroyed\"\n",
    "    ]\n",
    "    \n",
    "    with open(csv_filename, mode=\"w\", newline=\"\") as file:\n",
    "        writer = csv.DictWriter(file, fieldnames=fieldnames)\n",
    "        writer.writeheader()\n",
    "    \n",
    "        for item in data:\n",
    "            earthquake_info = {\n",
    "                \"Id\": item.get(\"id\", \"\"),\n",
    "                \"Year\": item.get(\"year\", \"\"),\n",
    "                \"Month\": item.get(\"month\", \"\"),\n",
    "                \"Day\": item.get(\"day\", \"\"),\n",
    "                \"Hour\": item.get(\"hour\", \"\"),\n",
    "                \"Minute\": item.get(\"minute\", \"\"),\n",
    "                \"Second\": item.get(\"second\", \"\"),\n",
    "                \"Tsunami\": item.get(\"tsunamiEventId\"),\n",
    "                \"Country\": item.get(\"country\", \"\"),\n",
    "                \"Location Name\": item.get(\"locationName\", \"\"),\n",
    "                \"Latitude\": item.get(\"latitude\", \"\"),\n",
    "                \"Longitude\": item.get(\"longitude\", \"\"),\n",
    "                \"Focal Depth (km)\": item.get(\"eqDepth\", \"\"),\n",
    "                \"Mag\": item.get(\"eqMagnitude\", \"\"),\n",
    "                \"MMI Int\": item.get(\"intensity\", \"\"),\n",
    "                \"Deaths\": item.get(\"deaths\", \"\"),\n",
    "                \"Injuries\": item.get(\"injuries\", \"\"),\n",
    "                \"Damage ($Mil)\": item.get(\"damageMillionsDollars\", \"\"),\n",
    "                \"Houses Destroyed\": item.get(\"housesDestroyed\", \"\"),\n",
    "            }\n",
    "            \n",
    "            writer.writerow(earthquake_info)\n",
    "            \n",
    "if __name__ == '__main__':\n",
    "    app.run(debug=True, use_reloader=False)"
   ]
  },
  {
   "cell_type": "code",
   "execution_count": null,
   "id": "d32b0262",
   "metadata": {},
   "outputs": [],
   "source": []
  }
 ],
 "metadata": {
  "kernelspec": {
   "display_name": "Python 3 (ipykernel)",
   "language": "python",
   "name": "python3"
  },
  "language_info": {
   "codemirror_mode": {
    "name": "ipython",
    "version": 3
   },
   "file_extension": ".py",
   "mimetype": "text/x-python",
   "name": "python",
   "nbconvert_exporter": "python",
   "pygments_lexer": "ipython3",
   "version": "3.11.3"
  }
 },
 "nbformat": 4,
 "nbformat_minor": 5
}
